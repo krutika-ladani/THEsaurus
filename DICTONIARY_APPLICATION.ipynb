{
 "cells": [
  {
   "cell_type": "code",
   "execution_count": 3,
   "id": "815a0a12",
   "metadata": {},
   "outputs": [],
   "source": [
    "import pandas as pd \n",
    "from tkinter import*\n",
    "\n",
    "df=pd.read_csv(\"OPTED-Dictionary.csv\",usecols=['Word','Definition'])\n",
    "\n",
    "root=Tk()\n",
    "\n",
    "def seperator(text):\n",
    "    final_text = \"\"\n",
    "    flag=0\n",
    "    for i in range(0, len(text)):\n",
    "        final_text +=text[i]\n",
    "        if (i%90==0 and i!=0):\n",
    "            flag=1\n",
    "        if((flag==1) & (text[i]==' ')):\n",
    "            final_text += \"\\n\"\n",
    "            flag=0\n",
    "    return final_text\n",
    "\n",
    "root.geometry(\"700x500\")\n",
    "root.title(\"Dictonary\")\n",
    "root.configure(bg='black',highlightbackground='gray',highlightthickness=10)\n",
    "root.minsize(150,100)\n",
    "\n",
    "head=Label(text=\"DICTIONARY\", fg='cyan', bg='black', pady=20, font=(\"Felix titling\",40,\"bold\"))\n",
    "head.pack( fill=X, padx=20)\n",
    "\n",
    "instruct=Label(text=\"Write the word whose meaning you want to search:\", bg='black', fg='azure', pady=3, font='Times_20 20')\n",
    "instruct.pack( fill=X, padx=20, pady=3)\n",
    "\n",
    "\n",
    "word= StringVar()\n",
    "textbox=Entry(root, textvariable=word, font='comicsans 15',bg='black', fg='lightseagreen', border=3, relief=SUNKEN)\n",
    "textbox.configure(insertbackground='white')\n",
    "textbox.pack()\n",
    "\n",
    "def search():\n",
    "    w=word.get().title()\n",
    "    x=df.loc[(df.Word==w),[\"Definition\"]].values.tolist()\n",
    "    if(len(x)==0):\n",
    "        m='Word not found \\nSorry for the inconvenience'\n",
    "    else:\n",
    "        meanings=seperator(x[0][0])\n",
    "        for i in range(1,len(x)):\n",
    "            meanings=meanings+'\\n'+'-------OR-------'+'\\n'+seperator(x[i][0])\n",
    "    print_meaning[\"text\"]=meanings\n",
    "    \n",
    "    \n",
    "Button(root,fg=\"black\", text=\"Search\", bg='lightseagreen',font='Times_20 11 bold', command=search).pack(pady=10)\n",
    "\n",
    "\n",
    "print_meaning=Label(text=\"\", pady=2, font='comicsans 12', bg='black', fg='white')\n",
    "print_meaning.pack( padx=20, pady=10)\n",
    "\n",
    "\n",
    "\n",
    "root.mainloop()"
   ]
  },
  {
   "cell_type": "code",
   "execution_count": null,
   "id": "8e9c8354",
   "metadata": {},
   "outputs": [],
   "source": []
  },
  {
   "cell_type": "code",
   "execution_count": null,
   "id": "6287f6d8",
   "metadata": {},
   "outputs": [],
   "source": []
  }
 ],
 "metadata": {
  "kernelspec": {
   "display_name": "Python 3 (ipykernel)",
   "language": "python",
   "name": "python3"
  },
  "language_info": {
   "codemirror_mode": {
    "name": "ipython",
    "version": 3
   },
   "file_extension": ".py",
   "mimetype": "text/x-python",
   "name": "python",
   "nbconvert_exporter": "python",
   "pygments_lexer": "ipython3",
   "version": "3.9.13"
  }
 },
 "nbformat": 4,
 "nbformat_minor": 5
}
